{
 "cells": [
  {
   "cell_type": "code",
   "execution_count": 8,
   "metadata": {},
   "outputs": [
    {
     "data": {
      "text/plain": [
       "<torch._C.Generator at 0x1105ce2b0>"
      ]
     },
     "execution_count": 8,
     "metadata": {},
     "output_type": "execute_result"
    }
   ],
   "source": [
    "import torch\n",
    "import torch.nn as nn\n",
    "import torch.optim as optim\n",
    "import numpy as np\n",
    "import matplotlib.pyplot as plt\n",
    "import numpy as np\n",
    "import pandas as pd\n",
    "from torch.utils.data import DataLoader, TensorDataset\n",
    "\n",
    "#seed\n",
    "torch.manual_seed(0)\n"
   ]
  },
  {
   "cell_type": "code",
   "execution_count": 2,
   "metadata": {},
   "outputs": [],
   "source": [
    "class Generator(nn.Module):\n",
    "    def __init__(self, input_size, hidden_size, output_size):\n",
    "        super(Generator, self).__init__()\n",
    "        self.net = nn.Sequential(\n",
    "            nn.Linear(input_size, hidden_size),\n",
    "            nn.ReLU(),\n",
    "            nn.Linear(hidden_size, hidden_size),\n",
    "            nn.ReLU(),\n",
    "            nn.Linear(hidden_size, output_size),\n",
    "            nn.Tanh()\n",
    "        )\n",
    "    \n",
    "    def forward(self, x):\n",
    "        return self.net(x)\n",
    "\n",
    "class Discriminator(nn.Module):\n",
    "    def __init__(self, input_size, hidden_size, output_size):\n",
    "        super(Discriminator, self).__init__()\n",
    "        self.net = nn.Sequential(\n",
    "            nn.Linear(input_size, hidden_size),\n",
    "            nn.ReLU(),\n",
    "            nn.Linear(hidden_size, hidden_size),\n",
    "            nn.ReLU(),\n",
    "            nn.Linear(hidden_size, output_size),\n",
    "            nn.Sigmoid()\n",
    "        )\n",
    "    \n",
    "    def forward(self, x):\n",
    "        return self.net(x)\n"
   ]
  },
  {
   "cell_type": "code",
   "execution_count": 25,
   "metadata": {},
   "outputs": [],
   "source": [
    "input_size = 100 \n",
    "hidden_size = 128\n",
    "output_size = 10\n",
    "batch_size = 64\n",
    "num_epochs = 100\n",
    "learning_rate = 0.0002\n",
    "\n",
    "generator = Generator(input_size, hidden_size, output_size)\n",
    "discriminator = Discriminator(output_size, hidden_size, 1)\n",
    "\n",
    "criterion = nn.BCELoss()\n",
    "optimizer_g = optim.Adam(generator.parameters(), lr=learning_rate)\n",
    "optimizer_d = optim.Adam(discriminator.parameters(), lr=learning_rate)\n"
   ]
  },
  {
   "cell_type": "code",
   "execution_count": 5,
   "metadata": {},
   "outputs": [],
   "source": [
    "#fake data\n",
    "def generate_patient_data(num_samples):\n",
    "    np.random.seed(0)\n",
    "    \n",
    "    # Heights in cm (normal distribution)\n",
    "    heights = np.random.normal(loc=170, scale=10, size=num_samples)\n",
    "    \n",
    "    # Weights in kg (normal distribution)\n",
    "    weights = np.random.normal(loc=70, scale=15, size=num_samples)\n",
    "    \n",
    "    # Fat-free mass (normally around 80% of body weight, some deviation)\n",
    "    fat_free_mass = weights * np.random.uniform(0.75, 0.85, num_samples)\n",
    "    \n",
    "    # Body fat percentage (calculated from fat-free mass)\n",
    "    body_fat_percentage = 100 * (weights - fat_free_mass) / weights\n",
    "    \n",
    "    # Body mass index (BMI)\n",
    "    bmi = weights / (heights / 100) ** 2\n",
    "    \n",
    "    # Blood pressure (systolic/diastolic) in mmHg\n",
    "    systolic_bp = np.random.normal(loc=120, scale=15, size=num_samples)\n",
    "    diastolic_bp = np.random.normal(loc=80, scale=10, size=num_samples)\n",
    "    \n",
    "    # Age in years (uniform distribution between 18 and 90)\n",
    "    age = np.random.randint(18, 90, size=num_samples)\n",
    "    \n",
    "    # Cholesterol level (normal distribution)\n",
    "    cholesterol = np.random.normal(loc=200, scale=40, size=num_samples)\n",
    "    \n",
    "    # Glucose level (normal distribution)\n",
    "    glucose = np.random.normal(loc=100, scale=15, size=num_samples)\n",
    "    \n",
    "    # Pack all into a DataFrame\n",
    "    patient_data = pd.DataFrame({\n",
    "        'Height(cm)': heights,\n",
    "        'Weight(kg)': weights,\n",
    "        'FatFreeMass(kg)': fat_free_mass,\n",
    "        'BodyFatPercentage(%)': body_fat_percentage,\n",
    "        'BMI': bmi,\n",
    "        'SystolicBP(mmHg)': systolic_bp,\n",
    "        'DiastolicBP(mmHg)': diastolic_bp,\n",
    "        'Age(years)': age,\n",
    "        'Cholesterol(mg/dL)': cholesterol,\n",
    "        'Glucose(mg/dL)': glucose\n",
    "    })\n",
    "    \n",
    "    return patient_data"
   ]
  },
  {
   "cell_type": "code",
   "execution_count": 10,
   "metadata": {},
   "outputs": [],
   "source": [
    "def create_data_loader(df, batch_size):\n",
    "    # Convert the DataFrame to a NumPy array\n",
    "    data = df.values.astype(np.float32)\n",
    "    \n",
    "    # Convert the NumPy array to a PyTorch tensor\n",
    "    tensor_data = torch.tensor(data)\n",
    "    \n",
    "    # Create a TensorDataset from the tensor data\n",
    "    dataset = TensorDataset(tensor_data)\n",
    "    \n",
    "    # Create a DataLoader from the dataset with the specified batch size\n",
    "    data_loader = DataLoader(dataset, batch_size=batch_size, shuffle=True)\n",
    "    \n",
    "    return data_loader\n"
   ]
  },
  {
   "cell_type": "code",
   "execution_count": 9,
   "metadata": {},
   "outputs": [],
   "source": [
    "from sklearn.preprocessing import MinMaxScaler\n",
    "\n",
    "def scale_dataframe(df, feature_range=(-1, 1)):\n",
    "    scaler = MinMaxScaler(feature_range=feature_range)\n",
    "    scaled_values = scaler.fit_transform(df.values)\n",
    "    scaled_df = pd.DataFrame(scaled_values, columns=df.columns)\n",
    "    return scaled_df, scaler"
   ]
  },
  {
   "cell_type": "code",
   "execution_count": 26,
   "metadata": {},
   "outputs": [],
   "source": [
    "synthetic_patient_data = generate_patient_data(10000)\n",
    "scaled_patient_data, scaler = scale_dataframe(synthetic_patient_data, feature_range=(-1, 1))\n",
    "\n",
    "batch_size = 64\n",
    "real_data_loader = create_data_loader(scaled_patient_data, batch_size)"
   ]
  },
  {
   "cell_type": "code",
   "execution_count": 27,
   "metadata": {},
   "outputs": [
    {
     "name": "stdout",
     "output_type": "stream",
     "text": [
      "Epoch [0/100], d_loss: 1.2954261898994446, g_loss: 0.7078133225440979\n",
      "Epoch [10/100], d_loss: 1.1561580300331116, g_loss: 0.8265936374664307\n",
      "Epoch [20/100], d_loss: 1.3605216145515442, g_loss: 1.0222952365875244\n",
      "Epoch [30/100], d_loss: 1.0828190445899963, g_loss: 0.885942280292511\n",
      "Epoch [40/100], d_loss: 1.686695396900177, g_loss: 0.7025881409645081\n",
      "Epoch [50/100], d_loss: 1.0966114401817322, g_loss: 1.1281818151474\n",
      "Epoch [60/100], d_loss: 1.1407724618911743, g_loss: 1.026016116142273\n",
      "Epoch [70/100], d_loss: 1.0989508032798767, g_loss: 0.9543361663818359\n",
      "Epoch [80/100], d_loss: 1.6116958260536194, g_loss: 0.8197343349456787\n",
      "Epoch [90/100], d_loss: 1.3687865138053894, g_loss: 0.867071807384491\n"
     ]
    }
   ],
   "source": [
    "for epoch in range(num_epochs):\n",
    "    for real_data_batch in real_data_loader:\n",
    "        # real_data_batch is a tuple, we need to extract the tensor\n",
    "        real_data = real_data_batch[0]  # Extract the tensor from the tuple\n",
    "        \n",
    "        # Train Discriminator\n",
    "        optimizer_d.zero_grad()\n",
    "\n",
    "        real_labels = torch.ones(real_data.size(0), 1)  # Adjust labels to match batch size\n",
    "        outputs = discriminator(real_data)\n",
    "        d_loss_real = criterion(outputs, real_labels)\n",
    "        d_loss_real.backward()\n",
    "\n",
    "        # Generate fake data\n",
    "        noise = torch.randn(real_data.size(0), input_size)\n",
    "        fake_data = generator(noise)\n",
    "        fake_labels = torch.zeros(real_data.size(0), 1)\n",
    "        outputs = discriminator(fake_data.detach())\n",
    "        d_loss_fake = criterion(outputs, fake_labels)\n",
    "        d_loss_fake.backward()\n",
    "\n",
    "        optimizer_d.step()\n",
    "\n",
    "        # Train Generator\n",
    "        optimizer_g.zero_grad()\n",
    "\n",
    "        fake_labels = torch.ones(real_data.size(0), 1)\n",
    "        outputs = discriminator(fake_data)\n",
    "        g_loss = criterion(outputs, fake_labels)\n",
    "        g_loss.backward()\n",
    "\n",
    "        optimizer_g.step()\n",
    "\n",
    "    if epoch % 10 == 0:\n",
    "        print(f'Epoch [{epoch}/{num_epochs}], d_loss: {d_loss_real.item() + d_loss_fake.item()}, g_loss: {g_loss.item()}')\n"
   ]
  },
  {
   "cell_type": "code",
   "execution_count": 28,
   "metadata": {},
   "outputs": [],
   "source": [
    "def generate_synthetic_data(num_samples):\n",
    "    noise = torch.randn(num_samples, input_size)\n",
    "    synthetic_data = generator(noise)\n",
    "    return synthetic_data.detach().numpy()"
   ]
  },
  {
   "cell_type": "code",
   "execution_count": 29,
   "metadata": {},
   "outputs": [],
   "source": [
    "def inverse_transform_data(scaled_data, scaler):\n",
    "    return scaler.inverse_transform(scaled_data)"
   ]
  },
  {
   "cell_type": "code",
   "execution_count": 30,
   "metadata": {},
   "outputs": [],
   "source": [
    "num_samples = 100\n",
    "synthetic_data_scaled = generate_synthetic_data(num_samples)\n",
    "synthetic_data_original_scale = inverse_transform_data(synthetic_data_scaled, scaler)\n",
    "\n",
    "synthetic_data_df = pd.DataFrame(synthetic_data_original_scale, columns=synthetic_patient_data.columns)\n"
   ]
  },
  {
   "cell_type": "code",
   "execution_count": 32,
   "metadata": {},
   "outputs": [
    {
     "name": "stdout",
     "output_type": "stream",
     "text": [
      "                      KS Statistic       p-value\n",
      "Height(cm)                  0.6981  9.683222e-49\n",
      "Weight(kg)                  0.6482  4.517264e-41\n",
      "FatFreeMass(kg)             0.4877  3.299480e-22\n",
      "BodyFatPercentage(%)        0.4197  2.602653e-16\n",
      "BMI                         0.6476  5.507354e-41\n",
      "SystolicBP(mmHg)            0.2133  1.976716e-04\n",
      "DiastolicBP(mmHg)           0.4227  1.506139e-16\n",
      "Age(years)                  0.2250  6.963363e-05\n",
      "Cholesterol(mg/dL)          0.5776  8.199350e-32\n",
      "Glucose(mg/dL)              0.4788  2.254870e-21\n"
     ]
    }
   ],
   "source": [
    "from scipy.stats import ks_2samp\n",
    "\n",
    "def ks_test(real_data, synthetic_data):\n",
    "    results = {}\n",
    "    for column in real_data.columns:\n",
    "        statistic, p_value = ks_2samp(real_data[column], synthetic_data[column])\n",
    "        results[column] = {'KS Statistic': statistic, 'p-value': p_value}\n",
    "    return pd.DataFrame(results).T\n",
    "\n",
    "ks_test_results = ks_test(synthetic_patient_data, synthetic_data_df)\n",
    "print(ks_test_results)\n"
   ]
  },
  {
   "cell_type": "code",
   "execution_count": null,
   "metadata": {},
   "outputs": [],
   "source": [
    "import matplotlib.pyplot as plt\n",
    "import seaborn as sns\n",
    "\n",
    "def plot_distribution_comparison(real_data, synthetic_data, column):\n",
    "    plt.figure(figsize=(10, 6))\n",
    "    sns.kdeplot(real_data[column], label='Real Data', color='blue')\n",
    "    sns.kdeplot(synthetic_data[column], label='Synthetic Data', color='red')\n",
    "    plt.title(f'Distribution Comparison: {column}')\n",
    "    plt.legend()\n",
    "    plt.show()\n",
    "\n",
    "for column in synthetic_patient_data.columns:\n",
    "    plot_distribution_comparison(synthetic_patient_data, synthetic_data_df, column)\n",
    "\n"
   ]
  },
  {
   "cell_type": "code",
   "execution_count": 36,
   "metadata": {},
   "outputs": [
    {
     "name": "stdout",
     "output_type": "stream",
     "text": [
      "                      Height(cm)  Weight(kg)  FatFreeMass(kg)  \\\n",
      "Height(cm)              0.000000    0.422021         0.061648   \n",
      "Weight(kg)              0.422021    0.000000         0.172881   \n",
      "FatFreeMass(kg)         0.061648    0.172881         0.000000   \n",
      "BodyFatPercentage(%)    0.086516    0.769369         0.631625   \n",
      "BMI                     0.066238    0.040370         0.139766   \n",
      "SystolicBP(mmHg)        0.619515    0.469480         0.062338   \n",
      "DiastolicBP(mmHg)       0.572654    0.328451         0.071826   \n",
      "Age(years)              0.508482    0.077814         0.414998   \n",
      "Cholesterol(mg/dL)      0.498977    0.003942         0.199201   \n",
      "Glucose(mg/dL)          0.118964    0.152242         0.278169   \n",
      "\n",
      "                      BodyFatPercentage(%)       BMI  SystolicBP(mmHg)  \\\n",
      "Height(cm)                        0.086516  0.066238          0.619515   \n",
      "Weight(kg)                        0.769369  0.040370          0.469480   \n",
      "FatFreeMass(kg)                   0.631625  0.139766          0.062338   \n",
      "BodyFatPercentage(%)              0.000000  0.525098          0.481658   \n",
      "BMI                               0.525098  0.000000          0.278413   \n",
      "SystolicBP(mmHg)                  0.481658  0.278413          0.000000   \n",
      "DiastolicBP(mmHg)                 0.294211  0.383511          0.441798   \n",
      "Age(years)                        0.056593  0.126177          0.736798   \n",
      "Cholesterol(mg/dL)                0.469986  0.293061          0.215462   \n",
      "Glucose(mg/dL)                    0.106896  0.421085          0.474899   \n",
      "\n",
      "                      DiastolicBP(mmHg)  Age(years)  Cholesterol(mg/dL)  \\\n",
      "Height(cm)                     0.572654    0.508482            0.498977   \n",
      "Weight(kg)                     0.328451    0.077814            0.003942   \n",
      "FatFreeMass(kg)                0.071826    0.414998            0.199201   \n",
      "BodyFatPercentage(%)           0.294211    0.056593            0.469986   \n",
      "BMI                            0.383511    0.126177            0.293061   \n",
      "SystolicBP(mmHg)               0.441798    0.736798            0.215462   \n",
      "DiastolicBP(mmHg)              0.000000    0.149011            0.106411   \n",
      "Age(years)                     0.149011    0.000000            0.000134   \n",
      "Cholesterol(mg/dL)             0.106411    0.000134            0.000000   \n",
      "Glucose(mg/dL)                 0.229764    0.592919            0.501879   \n",
      "\n",
      "                      Glucose(mg/dL)  \n",
      "Height(cm)                  0.118964  \n",
      "Weight(kg)                  0.152242  \n",
      "FatFreeMass(kg)             0.278169  \n",
      "BodyFatPercentage(%)        0.106896  \n",
      "BMI                         0.421085  \n",
      "SystolicBP(mmHg)            0.474899  \n",
      "DiastolicBP(mmHg)           0.229764  \n",
      "Age(years)                  0.592919  \n",
      "Cholesterol(mg/dL)          0.501879  \n",
      "Glucose(mg/dL)              0.000000  \n"
     ]
    }
   ],
   "source": [
    "def compare_correlation_matrices(real_data, synthetic_data):\n",
    "    real_corr = real_data.corr()\n",
    "    synthetic_corr = synthetic_data.corr()\n",
    "    \n",
    "    corr_diff = np.abs(real_corr - synthetic_corr)\n",
    "    return corr_diff\n",
    "\n",
    "correlation_diff = compare_correlation_matrices(synthetic_patient_data, synthetic_data_df)\n",
    "print(correlation_diff)\n"
   ]
  },
  {
   "cell_type": "code",
   "execution_count": null,
   "metadata": {},
   "outputs": [],
   "source": [
    "from sklearn.decomposition import PCA\n",
    "\n",
    "def pca_analysis(real_data, synthetic_data, n_components=2):\n",
    "    pca = PCA(n_components=n_components)\n",
    "    \n",
    "    real_pca = pca.fit_transform(real_data)\n",
    "    synthetic_pca = pca.transform(synthetic_data)\n",
    "    \n",
    "    plt.figure(figsize=(10, 6))\n",
    "    plt.scatter(real_pca[:, 0], real_pca[:, 1], label='Real Data', alpha=0.5, color='blue')\n",
    "    plt.scatter(synthetic_pca[:, 0], synthetic_pca[:, 1], label='Synthetic Data', alpha=0.5, color='red')\n",
    "    plt.title('PCA Analysis')\n",
    "    plt.legend()\n",
    "    plt.show()\n",
    "\n",
    "pca_analysis(synthetic_patient_data, synthetic_data_df)\n"
   ]
  },
  {
   "cell_type": "code",
   "execution_count": null,
   "metadata": {},
   "outputs": [],
   "source": [
    "def compare_mean_variance(real_data, synthetic_data):\n",
    "    results = {}\n",
    "    for column in real_data.columns:\n",
    "        real_mean, real_var = real_data[column].mean(), real_data[column].var()\n",
    "        synthetic_mean, synthetic_var = synthetic_data[column].mean(), synthetic_data[column].var()\n",
    "        \n",
    "        results[column] = {\n",
    "            'Real Mean': real_mean,\n",
    "            'Synthetic Mean': synthetic_mean,\n",
    "            'Mean Difference': np.abs(real_mean - synthetic_mean),\n",
    "            'Real Variance': real_var,\n",
    "            'Synthetic Variance': synthetic_var,\n",
    "            'Variance Difference': np.abs(real_var - synthetic_var)\n",
    "        }\n",
    "    return pd.DataFrame(results).T\n",
    "\n",
    "mean_variance_comparison = compare_mean_variance(synthetic_patient_data, synthetic_data_df)\n",
    "print(mean_variance_comparison)\n"
   ]
  }
 ],
 "metadata": {
  "kernelspec": {
   "display_name": "Python 3",
   "language": "python",
   "name": "python3"
  },
  "language_info": {
   "codemirror_mode": {
    "name": "ipython",
    "version": 3
   },
   "file_extension": ".py",
   "mimetype": "text/x-python",
   "name": "python",
   "nbconvert_exporter": "python",
   "pygments_lexer": "ipython3",
   "version": "3.11.5"
  }
 },
 "nbformat": 4,
 "nbformat_minor": 2
}
